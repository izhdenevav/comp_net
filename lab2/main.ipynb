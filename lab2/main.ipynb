{
 "cells": [
  {
   "cell_type": "code",
   "execution_count": 1,
   "metadata": {},
   "outputs": [
    {
     "name": "stdout",
     "output_type": "stream",
     "text": [
      "Requirement already satisfied: selenium in c:\\users\\влада\\appdata\\local\\programs\\python\\python313\\lib\\site-packages (4.29.0)\n",
      "Requirement already satisfied: urllib3<3,>=1.26 in c:\\users\\влада\\appdata\\local\\programs\\python\\python313\\lib\\site-packages (from urllib3[socks]<3,>=1.26->selenium) (2.3.0)\n",
      "Requirement already satisfied: trio~=0.17 in c:\\users\\влада\\appdata\\local\\programs\\python\\python313\\lib\\site-packages (from selenium) (0.29.0)\n",
      "Requirement already satisfied: trio-websocket~=0.9 in c:\\users\\влада\\appdata\\local\\programs\\python\\python313\\lib\\site-packages (from selenium) (0.12.1)\n",
      "Requirement already satisfied: certifi>=2021.10.8 in c:\\users\\влада\\appdata\\local\\programs\\python\\python313\\lib\\site-packages (from selenium) (2025.1.31)\n",
      "Requirement already satisfied: typing_extensions~=4.9 in c:\\users\\влада\\appdata\\local\\programs\\python\\python313\\lib\\site-packages (from selenium) (4.12.2)\n",
      "Requirement already satisfied: websocket-client~=1.8 in c:\\users\\влада\\appdata\\local\\programs\\python\\python313\\lib\\site-packages (from selenium) (1.8.0)\n",
      "Requirement already satisfied: attrs>=23.2.0 in c:\\users\\влада\\appdata\\local\\programs\\python\\python313\\lib\\site-packages (from trio~=0.17->selenium) (25.1.0)\n",
      "Requirement already satisfied: sortedcontainers in c:\\users\\влада\\appdata\\local\\programs\\python\\python313\\lib\\site-packages (from trio~=0.17->selenium) (2.4.0)\n",
      "Requirement already satisfied: idna in c:\\users\\влада\\appdata\\local\\programs\\python\\python313\\lib\\site-packages (from trio~=0.17->selenium) (3.10)\n",
      "Requirement already satisfied: outcome in c:\\users\\влада\\appdata\\local\\programs\\python\\python313\\lib\\site-packages (from trio~=0.17->selenium) (1.3.0.post0)\n",
      "Requirement already satisfied: sniffio>=1.3.0 in c:\\users\\влада\\appdata\\local\\programs\\python\\python313\\lib\\site-packages (from trio~=0.17->selenium) (1.3.1)\n",
      "Requirement already satisfied: cffi>=1.14 in c:\\users\\влада\\appdata\\local\\programs\\python\\python313\\lib\\site-packages (from trio~=0.17->selenium) (1.17.1)\n",
      "Requirement already satisfied: wsproto>=0.14 in c:\\users\\влада\\appdata\\local\\programs\\python\\python313\\lib\\site-packages (from trio-websocket~=0.9->selenium) (1.2.0)\n",
      "Requirement already satisfied: pysocks!=1.5.7,<2.0,>=1.5.6 in c:\\users\\влада\\appdata\\local\\programs\\python\\python313\\lib\\site-packages (from urllib3[socks]<3,>=1.26->selenium) (1.7.1)\n",
      "Requirement already satisfied: pycparser in c:\\users\\влада\\appdata\\local\\programs\\python\\python313\\lib\\site-packages (from cffi>=1.14->trio~=0.17->selenium) (2.22)\n",
      "Requirement already satisfied: h11<1,>=0.9.0 in c:\\users\\влада\\appdata\\local\\programs\\python\\python313\\lib\\site-packages (from wsproto>=0.14->trio-websocket~=0.9->selenium) (0.14.0)\n",
      "Note: you may need to restart the kernel to use updated packages.\n",
      "Requirement already satisfied: pandas in c:\\users\\влада\\appdata\\local\\programs\\python\\python313\\lib\\site-packages (2.2.3)\n",
      "Requirement already satisfied: numpy>=1.26.0 in c:\\users\\влада\\appdata\\local\\programs\\python\\python313\\lib\\site-packages (from pandas) (2.2.3)\n",
      "Requirement already satisfied: python-dateutil>=2.8.2 in c:\\users\\влада\\appdata\\local\\programs\\python\\python313\\lib\\site-packages (from pandas) (2.9.0.post0)\n",
      "Requirement already satisfied: pytz>=2020.1 in c:\\users\\влада\\appdata\\local\\programs\\python\\python313\\lib\\site-packages (from pandas) (2025.1)\n",
      "Requirement already satisfied: tzdata>=2022.7 in c:\\users\\влада\\appdata\\local\\programs\\python\\python313\\lib\\site-packages (from pandas) (2025.1)\n",
      "Requirement already satisfied: six>=1.5 in c:\\users\\влада\\appdata\\local\\programs\\python\\python313\\lib\\site-packages (from python-dateutil>=2.8.2->pandas) (1.17.0)\n",
      "Note: you may need to restart the kernel to use updated packages.\n"
     ]
    }
   ],
   "source": [
    "%pip install selenium\n",
    "%pip install pandas"
   ]
  },
  {
   "cell_type": "code",
   "execution_count": 2,
   "metadata": {},
   "outputs": [],
   "source": [
    "from selenium import webdriver\n",
    "from selenium.webdriver.common.by import By\n",
    "import time\n",
    "import pandas as pd\n",
    "import os"
   ]
  },
  {
   "cell_type": "markdown",
   "metadata": {},
   "source": [
    "3) Написать скрипт - парсер, ИСПОЛЬЗУЯ SELENIUM.\n",
    "Обязательно должен иметь пагинацию\n",
    "Желательно авторизацию\n",
    "Парсим что угодно, новостной сайт, интернет-магазин, без разницы.\n",
    "Параметров сохраняет не менее 4ёх.\n",
    "Записывает всё в csv файл.\n",
    "Далее он же будет завязан на следующем задании."
   ]
  },
  {
   "cell_type": "code",
   "execution_count": 3,
   "metadata": {},
   "outputs": [],
   "source": [
    "df = pd.DataFrame(columns=[\"Название (РУ)\", \"Вид\", \"Год\", \"Ссылка на картинку\"])"
   ]
  },
  {
   "cell_type": "code",
   "execution_count": 4,
   "metadata": {},
   "outputs": [],
   "source": [
    "driver = webdriver.Chrome()"
   ]
  },
  {
   "cell_type": "code",
   "execution_count": 5,
   "metadata": {},
   "outputs": [
    {
     "name": "stdout",
     "output_type": "stream",
     "text": [
      "Количество страниц:  1118\n"
     ]
    }
   ],
   "source": [
    "driver.get(\"https://shikimori.one/animes\")\n",
    "# контейнер, из которого я хочу достать количество страниц\n",
    "no_hover = driver.find_element(By.CLASS_NAME, \"no-hover\") \n",
    "# текст из спана с количеством страниц\n",
    "total_cnt_of_pages = no_hover.find_element(By.CLASS_NAME, \"link-total\").text\n",
    "print('Количество страниц: ', total_cnt_of_pages)\n",
    "forward_button = driver.find_element(By.CLASS_NAME, \"link-next\")"
   ]
  },
  {
   "cell_type": "code",
   "execution_count": 6,
   "metadata": {},
   "outputs": [
    {
     "ename": "InvalidSessionIdException",
     "evalue": "Message: invalid session id: session deleted as the browser has closed the connection\nfrom disconnected: Unable to receive message from renderer\n  (Session info: chrome=133.0.6943.127)\nStacktrace:\n\tGetHandleVerifier [0x00007FF6DACD6EE5+28773]\n\t(No symbol) [0x00007FF6DAC425D0]\n\t(No symbol) [0x00007FF6DAAD8FAA]\n\t(No symbol) [0x00007FF6DAAC646C]\n\t(No symbol) [0x00007FF6DAAC615A]\n\t(No symbol) [0x00007FF6DAAC3CEE]\n\t(No symbol) [0x00007FF6DAAC47AF]\n\t(No symbol) [0x00007FF6DAADE3B1]\n\t(No symbol) [0x00007FF6DAADEEAA]\n\t(No symbol) [0x00007FF6DAAE377C]\n\t(No symbol) [0x00007FF6DAAE384F]\n\t(No symbol) [0x00007FF6DAB28EC6]\n\t(No symbol) [0x00007FF6DAB5724A]\n\t(No symbol) [0x00007FF6DAB21B36]\n\t(No symbol) [0x00007FF6DAB57460]\n\t(No symbol) [0x00007FF6DAB7F6F3]\n\t(No symbol) [0x00007FF6DAB57023]\n\t(No symbol) [0x00007FF6DAB1FF5E]\n\t(No symbol) [0x00007FF6DAB211E3]\n\tGetHandleVerifier [0x00007FF6DB02422D+3490733]\n\tGetHandleVerifier [0x00007FF6DB03BA13+3586963]\n\tGetHandleVerifier [0x00007FF6DB03144D+3544525]\n\tGetHandleVerifier [0x00007FF6DAD9C9AA+838442]\n\t(No symbol) [0x00007FF6DAC4D01F]\n\t(No symbol) [0x00007FF6DAC495E4]\n\t(No symbol) [0x00007FF6DAC49786]\n\t(No symbol) [0x00007FF6DAC38CB9]\n\tBaseThreadInitThunk [0x00007FFE6EC4E8D7+23]\n\tRtlUserThreadStart [0x00007FFE6FEFBF2C+44]\n",
     "output_type": "error",
     "traceback": [
      "\u001b[1;31m---------------------------------------------------------------------------\u001b[0m",
      "\u001b[1;31mInvalidSessionIdException\u001b[0m                 Traceback (most recent call last)",
      "Cell \u001b[1;32mIn[6], line 8\u001b[0m\n\u001b[0;32m      6\u001b[0m articles \u001b[38;5;241m=\u001b[39m entries_div\u001b[38;5;241m.\u001b[39mfind_elements(By\u001b[38;5;241m.\u001b[39mTAG_NAME, \u001b[38;5;124m\"\u001b[39m\u001b[38;5;124marticle\u001b[39m\u001b[38;5;124m\"\u001b[39m)\n\u001b[0;32m      7\u001b[0m \u001b[38;5;28;01mfor\u001b[39;00m article \u001b[38;5;129;01min\u001b[39;00m articles:\n\u001b[1;32m----> 8\u001b[0m     title_name_ru \u001b[38;5;241m=\u001b[39m \u001b[43marticle\u001b[49m\u001b[38;5;241;43m.\u001b[39;49m\u001b[43mfind_element\u001b[49m\u001b[43m(\u001b[49m\u001b[43mBy\u001b[49m\u001b[38;5;241;43m.\u001b[39;49m\u001b[43mCLASS_NAME\u001b[49m\u001b[43m,\u001b[49m\u001b[43m \u001b[49m\u001b[38;5;124;43m\"\u001b[39;49m\u001b[38;5;124;43mname-ru\u001b[39;49m\u001b[38;5;124;43m\"\u001b[39;49m\u001b[43m)\u001b[49m\u001b[38;5;241;43m.\u001b[39;49m\u001b[43mtext\u001b[49m\n\u001b[0;32m      9\u001b[0m     \u001b[38;5;66;03m# title_name_en = article.find_element(By.CLASS_NAME, \"name-en\")\u001b[39;00m\n\u001b[0;32m     10\u001b[0m     misc_div \u001b[38;5;241m=\u001b[39m article\u001b[38;5;241m.\u001b[39mfind_element(By\u001b[38;5;241m.\u001b[39mCLASS_NAME, \u001b[38;5;124m\"\u001b[39m\u001b[38;5;124mmisc\u001b[39m\u001b[38;5;124m\"\u001b[39m)\n",
      "File \u001b[1;32mc:\\Users\\Влада\\AppData\\Local\\Programs\\Python\\Python313\\Lib\\site-packages\\selenium\\webdriver\\remote\\webelement.py:109\u001b[0m, in \u001b[0;36mWebElement.text\u001b[1;34m(self)\u001b[0m\n\u001b[0;32m     96\u001b[0m \u001b[38;5;129m@property\u001b[39m\n\u001b[0;32m     97\u001b[0m \u001b[38;5;28;01mdef\u001b[39;00m\u001b[38;5;250m \u001b[39m\u001b[38;5;21mtext\u001b[39m(\u001b[38;5;28mself\u001b[39m) \u001b[38;5;241m-\u001b[39m\u001b[38;5;241m>\u001b[39m \u001b[38;5;28mstr\u001b[39m:\n\u001b[0;32m     98\u001b[0m \u001b[38;5;250m    \u001b[39m\u001b[38;5;124;03m\"\"\"The text of the element.\u001b[39;00m\n\u001b[0;32m     99\u001b[0m \n\u001b[0;32m    100\u001b[0m \u001b[38;5;124;03m    Returns:\u001b[39;00m\n\u001b[1;32m   (...)\u001b[0m\n\u001b[0;32m    107\u001b[0m \u001b[38;5;124;03m    >>> print(element.text)\u001b[39;00m\n\u001b[0;32m    108\u001b[0m \u001b[38;5;124;03m    \"\"\"\u001b[39;00m\n\u001b[1;32m--> 109\u001b[0m     \u001b[38;5;28;01mreturn\u001b[39;00m \u001b[38;5;28;43mself\u001b[39;49m\u001b[38;5;241;43m.\u001b[39;49m\u001b[43m_execute\u001b[49m\u001b[43m(\u001b[49m\u001b[43mCommand\u001b[49m\u001b[38;5;241;43m.\u001b[39;49m\u001b[43mGET_ELEMENT_TEXT\u001b[49m\u001b[43m)\u001b[49m[\u001b[38;5;124m\"\u001b[39m\u001b[38;5;124mvalue\u001b[39m\u001b[38;5;124m\"\u001b[39m]\n",
      "File \u001b[1;32mc:\\Users\\Влада\\AppData\\Local\\Programs\\Python\\Python313\\Lib\\site-packages\\selenium\\webdriver\\remote\\webelement.py:572\u001b[0m, in \u001b[0;36mWebElement._execute\u001b[1;34m(self, command, params)\u001b[0m\n\u001b[0;32m    570\u001b[0m     params \u001b[38;5;241m=\u001b[39m {}\n\u001b[0;32m    571\u001b[0m params[\u001b[38;5;124m\"\u001b[39m\u001b[38;5;124mid\u001b[39m\u001b[38;5;124m\"\u001b[39m] \u001b[38;5;241m=\u001b[39m \u001b[38;5;28mself\u001b[39m\u001b[38;5;241m.\u001b[39m_id\n\u001b[1;32m--> 572\u001b[0m \u001b[38;5;28;01mreturn\u001b[39;00m \u001b[38;5;28;43mself\u001b[39;49m\u001b[38;5;241;43m.\u001b[39;49m\u001b[43m_parent\u001b[49m\u001b[38;5;241;43m.\u001b[39;49m\u001b[43mexecute\u001b[49m\u001b[43m(\u001b[49m\u001b[43mcommand\u001b[49m\u001b[43m,\u001b[49m\u001b[43m \u001b[49m\u001b[43mparams\u001b[49m\u001b[43m)\u001b[49m\n",
      "File \u001b[1;32mc:\\Users\\Влада\\AppData\\Local\\Programs\\Python\\Python313\\Lib\\site-packages\\selenium\\webdriver\\remote\\webdriver.py:429\u001b[0m, in \u001b[0;36mWebDriver.execute\u001b[1;34m(self, driver_command, params)\u001b[0m\n\u001b[0;32m    427\u001b[0m response \u001b[38;5;241m=\u001b[39m \u001b[38;5;28mself\u001b[39m\u001b[38;5;241m.\u001b[39mcommand_executor\u001b[38;5;241m.\u001b[39mexecute(driver_command, params)\n\u001b[0;32m    428\u001b[0m \u001b[38;5;28;01mif\u001b[39;00m response:\n\u001b[1;32m--> 429\u001b[0m     \u001b[38;5;28;43mself\u001b[39;49m\u001b[38;5;241;43m.\u001b[39;49m\u001b[43merror_handler\u001b[49m\u001b[38;5;241;43m.\u001b[39;49m\u001b[43mcheck_response\u001b[49m\u001b[43m(\u001b[49m\u001b[43mresponse\u001b[49m\u001b[43m)\u001b[49m\n\u001b[0;32m    430\u001b[0m     response[\u001b[38;5;124m\"\u001b[39m\u001b[38;5;124mvalue\u001b[39m\u001b[38;5;124m\"\u001b[39m] \u001b[38;5;241m=\u001b[39m \u001b[38;5;28mself\u001b[39m\u001b[38;5;241m.\u001b[39m_unwrap_value(response\u001b[38;5;241m.\u001b[39mget(\u001b[38;5;124m\"\u001b[39m\u001b[38;5;124mvalue\u001b[39m\u001b[38;5;124m\"\u001b[39m, \u001b[38;5;28;01mNone\u001b[39;00m))\n\u001b[0;32m    431\u001b[0m     \u001b[38;5;28;01mreturn\u001b[39;00m response\n",
      "File \u001b[1;32mc:\\Users\\Влада\\AppData\\Local\\Programs\\Python\\Python313\\Lib\\site-packages\\selenium\\webdriver\\remote\\errorhandler.py:232\u001b[0m, in \u001b[0;36mErrorHandler.check_response\u001b[1;34m(self, response)\u001b[0m\n\u001b[0;32m    230\u001b[0m         alert_text \u001b[38;5;241m=\u001b[39m value[\u001b[38;5;124m\"\u001b[39m\u001b[38;5;124malert\u001b[39m\u001b[38;5;124m\"\u001b[39m]\u001b[38;5;241m.\u001b[39mget(\u001b[38;5;124m\"\u001b[39m\u001b[38;5;124mtext\u001b[39m\u001b[38;5;124m\"\u001b[39m)\n\u001b[0;32m    231\u001b[0m     \u001b[38;5;28;01mraise\u001b[39;00m exception_class(message, screen, stacktrace, alert_text)  \u001b[38;5;66;03m# type: ignore[call-arg]  # mypy is not smart enough here\u001b[39;00m\n\u001b[1;32m--> 232\u001b[0m \u001b[38;5;28;01mraise\u001b[39;00m exception_class(message, screen, stacktrace)\n",
      "\u001b[1;31mInvalidSessionIdException\u001b[0m: Message: invalid session id: session deleted as the browser has closed the connection\nfrom disconnected: Unable to receive message from renderer\n  (Session info: chrome=133.0.6943.127)\nStacktrace:\n\tGetHandleVerifier [0x00007FF6DACD6EE5+28773]\n\t(No symbol) [0x00007FF6DAC425D0]\n\t(No symbol) [0x00007FF6DAAD8FAA]\n\t(No symbol) [0x00007FF6DAAC646C]\n\t(No symbol) [0x00007FF6DAAC615A]\n\t(No symbol) [0x00007FF6DAAC3CEE]\n\t(No symbol) [0x00007FF6DAAC47AF]\n\t(No symbol) [0x00007FF6DAADE3B1]\n\t(No symbol) [0x00007FF6DAADEEAA]\n\t(No symbol) [0x00007FF6DAAE377C]\n\t(No symbol) [0x00007FF6DAAE384F]\n\t(No symbol) [0x00007FF6DAB28EC6]\n\t(No symbol) [0x00007FF6DAB5724A]\n\t(No symbol) [0x00007FF6DAB21B36]\n\t(No symbol) [0x00007FF6DAB57460]\n\t(No symbol) [0x00007FF6DAB7F6F3]\n\t(No symbol) [0x00007FF6DAB57023]\n\t(No symbol) [0x00007FF6DAB1FF5E]\n\t(No symbol) [0x00007FF6DAB211E3]\n\tGetHandleVerifier [0x00007FF6DB02422D+3490733]\n\tGetHandleVerifier [0x00007FF6DB03BA13+3586963]\n\tGetHandleVerifier [0x00007FF6DB03144D+3544525]\n\tGetHandleVerifier [0x00007FF6DAD9C9AA+838442]\n\t(No symbol) [0x00007FF6DAC4D01F]\n\t(No symbol) [0x00007FF6DAC495E4]\n\t(No symbol) [0x00007FF6DAC49786]\n\t(No symbol) [0x00007FF6DAC38CB9]\n\tBaseThreadInitThunk [0x00007FFE6EC4E8D7+23]\n\tRtlUserThreadStart [0x00007FFE6FEFBF2C+44]\n"
     ]
    }
   ],
   "source": [
    "file_exists = os.path.exists(\"animes_data.csv\")\n",
    "\n",
    "for _ in range(int(total_cnt_of_pages)):\n",
    "    time.sleep(2)\n",
    "    entries_div = driver.find_element(By.CLASS_NAME, \"cc-entries\")\n",
    "    articles = entries_div.find_elements(By.TAG_NAME, \"article\")\n",
    "    for article in articles:\n",
    "        title_name_ru = article.find_element(By.CLASS_NAME, \"name-ru\").text\n",
    "        # title_name_en = article.find_element(By.CLASS_NAME, \"name-en\")\n",
    "        misc_div = article.find_element(By.CLASS_NAME, \"misc\")\n",
    "        spans = misc_div.find_elements(By.TAG_NAME, \"span\")\n",
    "        img = article.find_element(By.TAG_NAME, \"img\")\n",
    "        \n",
    "        data = {\n",
    "            \"Название (ру)\":title_name_ru,\n",
    "            \"Вид\":spans[0].text,\n",
    "            \"Год\":spans[1].text,\n",
    "            \"Ссылка на картинку\":img.get_attribute(\"src\")\n",
    "        }\n",
    "\n",
    "        df = pd.DataFrame([data])\n",
    "        df.to_csv(\"animes_data.csv\", mode='a', index=False)\n",
    "        file_exists = True\n",
    "\n",
    "\n",
    "    forward_button.click()"
   ]
  }
 ],
 "metadata": {
  "kernelspec": {
   "display_name": "Python 3",
   "language": "python",
   "name": "python3"
  },
  "language_info": {
   "codemirror_mode": {
    "name": "ipython",
    "version": 3
   },
   "file_extension": ".py",
   "mimetype": "text/x-python",
   "name": "python",
   "nbconvert_exporter": "python",
   "pygments_lexer": "ipython3",
   "version": "3.13.2"
  }
 },
 "nbformat": 4,
 "nbformat_minor": 2
}
