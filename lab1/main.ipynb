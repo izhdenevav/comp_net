{
 "cells": [
  {
   "cell_type": "code",
   "execution_count": 23,
   "metadata": {},
   "outputs": [
    {
     "name": "stderr",
     "output_type": "stream",
     "text": [
      "ERROR: Could not find a version that satisfies the requirement subprocess (from versions: none)\n",
      "\n",
      "[notice] A new release of pip is available: 24.2 -> 25.0\n",
      "[notice] To update, run: D:\\msys64\\mingw64\\bin\\python.exe -m pip install --upgrade pip\n",
      "ERROR: No matching distribution found for subprocess\n"
     ]
    }
   ],
   "source": [
    "!pip install subprocess"
   ]
  },
  {
   "cell_type": "code",
   "execution_count": 106,
   "metadata": {},
   "outputs": [],
   "source": [
    "import subprocess\n",
    "import re\n"
   ]
  },
  {
   "cell_type": "code",
   "execution_count": 132,
   "metadata": {},
   "outputs": [],
   "source": [
    "hosts = [\"yandex.ru\", \"google.com\"]"
   ]
  },
  {
   "cell_type": "code",
   "execution_count": 102,
   "metadata": {},
   "outputs": [],
   "source": [
    "def get_response(host):\n",
    "    return subprocess.run([\"ping\", host], capture_output=True, text=True, check=True, encoding='cp866')"
   ]
  },
  {
   "cell_type": "code",
   "execution_count": 133,
   "metadata": {},
   "outputs": [],
   "source": [
    "data = {'host': [], 'bytes' : [], 'time': [], 'TTL': []}\n",
    "for host in hosts:\n",
    "    response = get_response(host).stdout.splitlines()\n",
    "    for line in response:\n",
    "        match = re.search(r\".*число байт=\\d* время=\\d*мс TTL=\\d*\", line)\n",
    "        if match:\n",
    "            props = re.findall(r\"\\d+\", line)\n",
    "            data['host'].append(host)\n",
    "            data['bytes'].append(props[4])\n",
    "            data['time'].append(props[5])\n",
    "            data['TTL'].append(props[6])          \n",
    "        \n",
    "    "
   ]
  },
  {
   "cell_type": "code",
   "execution_count": 136,
   "metadata": {},
   "outputs": [],
   "source": [
    "data\n",
    "df = pd.DataFrame(data)\n",
    "df.to_csv('output.csv', index=False)"
   ]
  }
 ],
 "metadata": {
  "kernelspec": {
   "display_name": "Python 3",
   "language": "python",
   "name": "python3"
  },
  "language_info": {
   "codemirror_mode": {
    "name": "ipython",
    "version": 3
   },
   "file_extension": ".py",
   "mimetype": "text/x-python",
   "name": "python",
   "nbconvert_exporter": "python",
   "pygments_lexer": "ipython3",
   "version": "3.12.3"
  }
 },
 "nbformat": 4,
 "nbformat_minor": 2
}
